{
 "cells": [
  {
   "cell_type": "code",
   "execution_count": 1,
   "metadata": {},
   "outputs": [
    {
     "data": {
      "text/html": [
       "<pre style=\"white-space:pre;overflow-x:auto;line-height:normal;font-family:Menlo,'DejaVu Sans Mono',consolas,'Courier New',monospace\">Manim Community <span style=\"color: #008000; text-decoration-color: #008000\">v0.18.0</span>\n",
       "\n",
       "</pre>\n"
      ],
      "text/plain": [
       "Manim Community \u001b[32mv0.\u001b[0m\u001b[32m18.0\u001b[0m\n",
       "\n"
      ]
     },
     "metadata": {},
     "output_type": "display_data"
    }
   ],
   "source": [
    "import manim as mn"
   ]
  },
  {
   "cell_type": "code",
   "execution_count": 4,
   "metadata": {},
   "outputs": [
    {
     "data": {
      "text/html": [
       "<pre style=\"white-space:pre;overflow-x:auto;line-height:normal;font-family:Menlo,'DejaVu Sans Mono',consolas,'Courier New',monospace\"><span style=\"color: #7fbfbf; text-decoration-color: #7fbfbf\">[01/10/24 23:24:14] </span><span style=\"color: #800000; text-decoration-color: #800000\">WARNING </span> Font Roboto not in <span style=\"font-weight: bold\">[</span><span style=\"color: #008000; text-decoration-color: #008000\">'C059'</span>, <span style=\"color: #008000; text-decoration-color: #008000\">'D050000L'</span>, <span style=\"color: #008000; text-decoration-color: #008000\">'DejaVu Sans'</span>, <span style=\"color: #008000; text-decoration-color: #008000\">'DejaVu </span>    <a href=\"file:///home/ushka/anaconda3/envs/my-manim-environment/lib/python3.11/site-packages/manim/mobject/text/text_mobject.py\" target=\"_blank\"><span style=\"color: #7f7f7f; text-decoration-color: #7f7f7f\">text_mobject.py</span></a><span style=\"color: #7f7f7f; text-decoration-color: #7f7f7f\">:</span><a href=\"file:///home/ushka/anaconda3/envs/my-manim-environment/lib/python3.11/site-packages/manim/mobject/text/text_mobject.py#440\" target=\"_blank\"><span style=\"color: #7f7f7f; text-decoration-color: #7f7f7f\">440</span></a>\n",
       "<span style=\"color: #7fbfbf; text-decoration-color: #7fbfbf\">                    </span>         <span style=\"color: #008000; text-decoration-color: #008000\">Sans Mono'</span>, <span style=\"color: #008000; text-decoration-color: #008000\">'DejaVu Serif'</span>, <span style=\"color: #008000; text-decoration-color: #008000\">'Droid Sans Fallback'</span>, <span style=\"color: #008000; text-decoration-color: #008000\">'FreeMono'</span>,     <span style=\"color: #7f7f7f; text-decoration-color: #7f7f7f\">                   </span>\n",
       "<span style=\"color: #7fbfbf; text-decoration-color: #7fbfbf\">                    </span>         <span style=\"color: #008000; text-decoration-color: #008000\">'FreeSans'</span>, <span style=\"color: #008000; text-decoration-color: #008000\">'FreeSerif'</span>, <span style=\"color: #008000; text-decoration-color: #008000\">'Inconsolata'</span>, <span style=\"color: #008000; text-decoration-color: #008000\">'Lato'</span>, <span style=\"color: #008000; text-decoration-color: #008000\">'Liberation Mono'</span>, <span style=\"color: #7f7f7f; text-decoration-color: #7f7f7f\">                   </span>\n",
       "<span style=\"color: #7fbfbf; text-decoration-color: #7fbfbf\">                    </span>         <span style=\"color: #008000; text-decoration-color: #008000\">'Liberation Sans'</span>, <span style=\"color: #008000; text-decoration-color: #008000\">'Liberation Sans Narrow'</span>, <span style=\"color: #008000; text-decoration-color: #008000\">'Liberation Serif'</span>,   <span style=\"color: #7f7f7f; text-decoration-color: #7f7f7f\">                   </span>\n",
       "<span style=\"color: #7fbfbf; text-decoration-color: #7fbfbf\">                    </span>         <span style=\"color: #008000; text-decoration-color: #008000\">'Monospace'</span>, <span style=\"color: #008000; text-decoration-color: #008000\">'Nimbus Mono PS'</span>, <span style=\"color: #008000; text-decoration-color: #008000\">'Nimbus Roman'</span>, <span style=\"color: #008000; text-decoration-color: #008000\">'Nimbus Sans'</span>,      <span style=\"color: #7f7f7f; text-decoration-color: #7f7f7f\">                   </span>\n",
       "<span style=\"color: #7fbfbf; text-decoration-color: #7fbfbf\">                    </span>         <span style=\"color: #008000; text-decoration-color: #008000\">'Nimbus Sans Narrow'</span>, <span style=\"color: #008000; text-decoration-color: #008000\">'Noto Mono'</span>, <span style=\"color: #008000; text-decoration-color: #008000\">'Noto Sans Mono'</span>, <span style=\"color: #008000; text-decoration-color: #008000\">'P052'</span>,       <span style=\"color: #7f7f7f; text-decoration-color: #7f7f7f\">                   </span>\n",
       "<span style=\"color: #7fbfbf; text-decoration-color: #7fbfbf\">                    </span>         <span style=\"color: #008000; text-decoration-color: #008000\">'Sans'</span>, <span style=\"color: #008000; text-decoration-color: #008000\">'Serif'</span>, <span style=\"color: #008000; text-decoration-color: #008000\">'Source Code Pro'</span>, <span style=\"color: #008000; text-decoration-color: #008000\">'Standard Symbols PS'</span>,         <span style=\"color: #7f7f7f; text-decoration-color: #7f7f7f\">                   </span>\n",
       "<span style=\"color: #7fbfbf; text-decoration-color: #7fbfbf\">                    </span>         <span style=\"color: #008000; text-decoration-color: #008000\">'System-ui'</span>, <span style=\"color: #008000; text-decoration-color: #008000\">'URW Bookman'</span>, <span style=\"color: #008000; text-decoration-color: #008000\">'URW Gothic'</span>, <span style=\"color: #008000; text-decoration-color: #008000\">'Ubuntu'</span>, <span style=\"color: #008000; text-decoration-color: #008000\">'Ubuntu </span>       <span style=\"color: #7f7f7f; text-decoration-color: #7f7f7f\">                   </span>\n",
       "<span style=\"color: #7fbfbf; text-decoration-color: #7fbfbf\">                    </span>         <span style=\"color: #008000; text-decoration-color: #008000\">Condensed'</span>, <span style=\"color: #008000; text-decoration-color: #008000\">'Ubuntu Mono'</span>, <span style=\"color: #008000; text-decoration-color: #008000\">'Z003'</span><span style=\"font-weight: bold\">]</span>.                                <span style=\"color: #7f7f7f; text-decoration-color: #7f7f7f\">                   </span>\n",
       "</pre>\n"
      ],
      "text/plain": [
       "\u001b[2;36m[01/10/24 23:24:14]\u001b[0m\u001b[2;36m \u001b[0m\u001b[31mWARNING \u001b[0m Font Roboto not in \u001b[1m[\u001b[0m\u001b[32m'C059'\u001b[0m, \u001b[32m'D050000L'\u001b[0m, \u001b[32m'DejaVu Sans'\u001b[0m, \u001b[32m'DejaVu \u001b[0m    \u001b]8;id=947856;file:///home/ushka/anaconda3/envs/my-manim-environment/lib/python3.11/site-packages/manim/mobject/text/text_mobject.py\u001b\\\u001b[2mtext_mobject.py\u001b[0m\u001b]8;;\u001b\\\u001b[2m:\u001b[0m\u001b]8;id=928094;file:///home/ushka/anaconda3/envs/my-manim-environment/lib/python3.11/site-packages/manim/mobject/text/text_mobject.py#440\u001b\\\u001b[2m440\u001b[0m\u001b]8;;\u001b\\\n",
       "\u001b[2;36m                    \u001b[0m         \u001b[32mSans Mono'\u001b[0m, \u001b[32m'DejaVu Serif'\u001b[0m, \u001b[32m'Droid Sans Fallback'\u001b[0m, \u001b[32m'FreeMono'\u001b[0m,     \u001b[2m                   \u001b[0m\n",
       "\u001b[2;36m                    \u001b[0m         \u001b[32m'FreeSans'\u001b[0m, \u001b[32m'FreeSerif'\u001b[0m, \u001b[32m'Inconsolata'\u001b[0m, \u001b[32m'Lato'\u001b[0m, \u001b[32m'Liberation Mono'\u001b[0m, \u001b[2m                   \u001b[0m\n",
       "\u001b[2;36m                    \u001b[0m         \u001b[32m'Liberation Sans'\u001b[0m, \u001b[32m'Liberation Sans Narrow'\u001b[0m, \u001b[32m'Liberation Serif'\u001b[0m,   \u001b[2m                   \u001b[0m\n",
       "\u001b[2;36m                    \u001b[0m         \u001b[32m'Monospace'\u001b[0m, \u001b[32m'Nimbus Mono PS'\u001b[0m, \u001b[32m'Nimbus Roman'\u001b[0m, \u001b[32m'Nimbus Sans'\u001b[0m,      \u001b[2m                   \u001b[0m\n",
       "\u001b[2;36m                    \u001b[0m         \u001b[32m'Nimbus Sans Narrow'\u001b[0m, \u001b[32m'Noto Mono'\u001b[0m, \u001b[32m'Noto Sans Mono'\u001b[0m, \u001b[32m'P052'\u001b[0m,       \u001b[2m                   \u001b[0m\n",
       "\u001b[2;36m                    \u001b[0m         \u001b[32m'Sans'\u001b[0m, \u001b[32m'Serif'\u001b[0m, \u001b[32m'Source Code Pro'\u001b[0m, \u001b[32m'Standard Symbols PS'\u001b[0m,         \u001b[2m                   \u001b[0m\n",
       "\u001b[2;36m                    \u001b[0m         \u001b[32m'System-ui'\u001b[0m, \u001b[32m'URW Bookman'\u001b[0m, \u001b[32m'URW Gothic'\u001b[0m, \u001b[32m'Ubuntu'\u001b[0m, \u001b[32m'Ubuntu \u001b[0m       \u001b[2m                   \u001b[0m\n",
       "\u001b[2;36m                    \u001b[0m         \u001b[32mCondensed'\u001b[0m, \u001b[32m'Ubuntu Mono'\u001b[0m, \u001b[32m'Z003'\u001b[0m\u001b[1m]\u001b[0m.                                \u001b[2m                   \u001b[0m\n"
      ]
     },
     "metadata": {},
     "output_type": "display_data"
    },
    {
     "name": "stderr",
     "output_type": "stream",
     "text": [
      "                                                                                                     \r"
     ]
    },
    {
     "data": {
      "text/html": [
       "<pre style=\"white-space:pre;overflow-x:auto;line-height:normal;font-family:Menlo,'DejaVu Sans Mono',consolas,'Courier New',monospace\"><span style=\"color: #7fbfbf; text-decoration-color: #7fbfbf\">[01/10/24 23:24:16] </span><span style=\"color: #800000; text-decoration-color: #800000\">WARNING </span> Font Roboto not in <span style=\"font-weight: bold\">[</span><span style=\"color: #008000; text-decoration-color: #008000\">'C059'</span>, <span style=\"color: #008000; text-decoration-color: #008000\">'D050000L'</span>, <span style=\"color: #008000; text-decoration-color: #008000\">'DejaVu Sans'</span>, <span style=\"color: #008000; text-decoration-color: #008000\">'DejaVu </span>    <a href=\"file:///home/ushka/anaconda3/envs/my-manim-environment/lib/python3.11/site-packages/manim/mobject/text/text_mobject.py\" target=\"_blank\"><span style=\"color: #7f7f7f; text-decoration-color: #7f7f7f\">text_mobject.py</span></a><span style=\"color: #7f7f7f; text-decoration-color: #7f7f7f\">:</span><a href=\"file:///home/ushka/anaconda3/envs/my-manim-environment/lib/python3.11/site-packages/manim/mobject/text/text_mobject.py#440\" target=\"_blank\"><span style=\"color: #7f7f7f; text-decoration-color: #7f7f7f\">440</span></a>\n",
       "<span style=\"color: #7fbfbf; text-decoration-color: #7fbfbf\">                    </span>         <span style=\"color: #008000; text-decoration-color: #008000\">Sans Mono'</span>, <span style=\"color: #008000; text-decoration-color: #008000\">'DejaVu Serif'</span>, <span style=\"color: #008000; text-decoration-color: #008000\">'Droid Sans Fallback'</span>, <span style=\"color: #008000; text-decoration-color: #008000\">'FreeMono'</span>,     <span style=\"color: #7f7f7f; text-decoration-color: #7f7f7f\">                   </span>\n",
       "<span style=\"color: #7fbfbf; text-decoration-color: #7fbfbf\">                    </span>         <span style=\"color: #008000; text-decoration-color: #008000\">'FreeSans'</span>, <span style=\"color: #008000; text-decoration-color: #008000\">'FreeSerif'</span>, <span style=\"color: #008000; text-decoration-color: #008000\">'Inconsolata'</span>, <span style=\"color: #008000; text-decoration-color: #008000\">'Lato'</span>, <span style=\"color: #008000; text-decoration-color: #008000\">'Liberation Mono'</span>, <span style=\"color: #7f7f7f; text-decoration-color: #7f7f7f\">                   </span>\n",
       "<span style=\"color: #7fbfbf; text-decoration-color: #7fbfbf\">                    </span>         <span style=\"color: #008000; text-decoration-color: #008000\">'Liberation Sans'</span>, <span style=\"color: #008000; text-decoration-color: #008000\">'Liberation Sans Narrow'</span>, <span style=\"color: #008000; text-decoration-color: #008000\">'Liberation Serif'</span>,   <span style=\"color: #7f7f7f; text-decoration-color: #7f7f7f\">                   </span>\n",
       "<span style=\"color: #7fbfbf; text-decoration-color: #7fbfbf\">                    </span>         <span style=\"color: #008000; text-decoration-color: #008000\">'Monospace'</span>, <span style=\"color: #008000; text-decoration-color: #008000\">'Nimbus Mono PS'</span>, <span style=\"color: #008000; text-decoration-color: #008000\">'Nimbus Roman'</span>, <span style=\"color: #008000; text-decoration-color: #008000\">'Nimbus Sans'</span>,      <span style=\"color: #7f7f7f; text-decoration-color: #7f7f7f\">                   </span>\n",
       "<span style=\"color: #7fbfbf; text-decoration-color: #7fbfbf\">                    </span>         <span style=\"color: #008000; text-decoration-color: #008000\">'Nimbus Sans Narrow'</span>, <span style=\"color: #008000; text-decoration-color: #008000\">'Noto Mono'</span>, <span style=\"color: #008000; text-decoration-color: #008000\">'Noto Sans Mono'</span>, <span style=\"color: #008000; text-decoration-color: #008000\">'P052'</span>,       <span style=\"color: #7f7f7f; text-decoration-color: #7f7f7f\">                   </span>\n",
       "<span style=\"color: #7fbfbf; text-decoration-color: #7fbfbf\">                    </span>         <span style=\"color: #008000; text-decoration-color: #008000\">'Sans'</span>, <span style=\"color: #008000; text-decoration-color: #008000\">'Serif'</span>, <span style=\"color: #008000; text-decoration-color: #008000\">'Source Code Pro'</span>, <span style=\"color: #008000; text-decoration-color: #008000\">'Standard Symbols PS'</span>,         <span style=\"color: #7f7f7f; text-decoration-color: #7f7f7f\">                   </span>\n",
       "<span style=\"color: #7fbfbf; text-decoration-color: #7fbfbf\">                    </span>         <span style=\"color: #008000; text-decoration-color: #008000\">'System-ui'</span>, <span style=\"color: #008000; text-decoration-color: #008000\">'URW Bookman'</span>, <span style=\"color: #008000; text-decoration-color: #008000\">'URW Gothic'</span>, <span style=\"color: #008000; text-decoration-color: #008000\">'Ubuntu'</span>, <span style=\"color: #008000; text-decoration-color: #008000\">'Ubuntu </span>       <span style=\"color: #7f7f7f; text-decoration-color: #7f7f7f\">                   </span>\n",
       "<span style=\"color: #7fbfbf; text-decoration-color: #7fbfbf\">                    </span>         <span style=\"color: #008000; text-decoration-color: #008000\">Condensed'</span>, <span style=\"color: #008000; text-decoration-color: #008000\">'Ubuntu Mono'</span>, <span style=\"color: #008000; text-decoration-color: #008000\">'Z003'</span><span style=\"font-weight: bold\">]</span>.                                <span style=\"color: #7f7f7f; text-decoration-color: #7f7f7f\">                   </span>\n",
       "</pre>\n"
      ],
      "text/plain": [
       "\u001b[2;36m[01/10/24 23:24:16]\u001b[0m\u001b[2;36m \u001b[0m\u001b[31mWARNING \u001b[0m Font Roboto not in \u001b[1m[\u001b[0m\u001b[32m'C059'\u001b[0m, \u001b[32m'D050000L'\u001b[0m, \u001b[32m'DejaVu Sans'\u001b[0m, \u001b[32m'DejaVu \u001b[0m    \u001b]8;id=968411;file:///home/ushka/anaconda3/envs/my-manim-environment/lib/python3.11/site-packages/manim/mobject/text/text_mobject.py\u001b\\\u001b[2mtext_mobject.py\u001b[0m\u001b]8;;\u001b\\\u001b[2m:\u001b[0m\u001b]8;id=661480;file:///home/ushka/anaconda3/envs/my-manim-environment/lib/python3.11/site-packages/manim/mobject/text/text_mobject.py#440\u001b\\\u001b[2m440\u001b[0m\u001b]8;;\u001b\\\n",
       "\u001b[2;36m                    \u001b[0m         \u001b[32mSans Mono'\u001b[0m, \u001b[32m'DejaVu Serif'\u001b[0m, \u001b[32m'Droid Sans Fallback'\u001b[0m, \u001b[32m'FreeMono'\u001b[0m,     \u001b[2m                   \u001b[0m\n",
       "\u001b[2;36m                    \u001b[0m         \u001b[32m'FreeSans'\u001b[0m, \u001b[32m'FreeSerif'\u001b[0m, \u001b[32m'Inconsolata'\u001b[0m, \u001b[32m'Lato'\u001b[0m, \u001b[32m'Liberation Mono'\u001b[0m, \u001b[2m                   \u001b[0m\n",
       "\u001b[2;36m                    \u001b[0m         \u001b[32m'Liberation Sans'\u001b[0m, \u001b[32m'Liberation Sans Narrow'\u001b[0m, \u001b[32m'Liberation Serif'\u001b[0m,   \u001b[2m                   \u001b[0m\n",
       "\u001b[2;36m                    \u001b[0m         \u001b[32m'Monospace'\u001b[0m, \u001b[32m'Nimbus Mono PS'\u001b[0m, \u001b[32m'Nimbus Roman'\u001b[0m, \u001b[32m'Nimbus Sans'\u001b[0m,      \u001b[2m                   \u001b[0m\n",
       "\u001b[2;36m                    \u001b[0m         \u001b[32m'Nimbus Sans Narrow'\u001b[0m, \u001b[32m'Noto Mono'\u001b[0m, \u001b[32m'Noto Sans Mono'\u001b[0m, \u001b[32m'P052'\u001b[0m,       \u001b[2m                   \u001b[0m\n",
       "\u001b[2;36m                    \u001b[0m         \u001b[32m'Sans'\u001b[0m, \u001b[32m'Serif'\u001b[0m, \u001b[32m'Source Code Pro'\u001b[0m, \u001b[32m'Standard Symbols PS'\u001b[0m,         \u001b[2m                   \u001b[0m\n",
       "\u001b[2;36m                    \u001b[0m         \u001b[32m'System-ui'\u001b[0m, \u001b[32m'URW Bookman'\u001b[0m, \u001b[32m'URW Gothic'\u001b[0m, \u001b[32m'Ubuntu'\u001b[0m, \u001b[32m'Ubuntu \u001b[0m       \u001b[2m                   \u001b[0m\n",
       "\u001b[2;36m                    \u001b[0m         \u001b[32mCondensed'\u001b[0m, \u001b[32m'Ubuntu Mono'\u001b[0m, \u001b[32m'Z003'\u001b[0m\u001b[1m]\u001b[0m.                                \u001b[2m                   \u001b[0m\n"
      ]
     },
     "metadata": {},
     "output_type": "display_data"
    },
    {
     "data": {
      "text/html": [
       "<pre style=\"white-space:pre;overflow-x:auto;line-height:normal;font-family:Menlo,'DejaVu Sans Mono',consolas,'Courier New',monospace\"><span style=\"color: #7fbfbf; text-decoration-color: #7fbfbf\">                    </span><span style=\"color: #800000; text-decoration-color: #800000\">WARNING </span> Font Roboto not in <span style=\"font-weight: bold\">[</span><span style=\"color: #008000; text-decoration-color: #008000\">'C059'</span>, <span style=\"color: #008000; text-decoration-color: #008000\">'D050000L'</span>, <span style=\"color: #008000; text-decoration-color: #008000\">'DejaVu Sans'</span>, <span style=\"color: #008000; text-decoration-color: #008000\">'DejaVu </span>    <a href=\"file:///home/ushka/anaconda3/envs/my-manim-environment/lib/python3.11/site-packages/manim/mobject/text/text_mobject.py\" target=\"_blank\"><span style=\"color: #7f7f7f; text-decoration-color: #7f7f7f\">text_mobject.py</span></a><span style=\"color: #7f7f7f; text-decoration-color: #7f7f7f\">:</span><a href=\"file:///home/ushka/anaconda3/envs/my-manim-environment/lib/python3.11/site-packages/manim/mobject/text/text_mobject.py#440\" target=\"_blank\"><span style=\"color: #7f7f7f; text-decoration-color: #7f7f7f\">440</span></a>\n",
       "<span style=\"color: #7fbfbf; text-decoration-color: #7fbfbf\">                    </span>         <span style=\"color: #008000; text-decoration-color: #008000\">Sans Mono'</span>, <span style=\"color: #008000; text-decoration-color: #008000\">'DejaVu Serif'</span>, <span style=\"color: #008000; text-decoration-color: #008000\">'Droid Sans Fallback'</span>, <span style=\"color: #008000; text-decoration-color: #008000\">'FreeMono'</span>,     <span style=\"color: #7f7f7f; text-decoration-color: #7f7f7f\">                   </span>\n",
       "<span style=\"color: #7fbfbf; text-decoration-color: #7fbfbf\">                    </span>         <span style=\"color: #008000; text-decoration-color: #008000\">'FreeSans'</span>, <span style=\"color: #008000; text-decoration-color: #008000\">'FreeSerif'</span>, <span style=\"color: #008000; text-decoration-color: #008000\">'Inconsolata'</span>, <span style=\"color: #008000; text-decoration-color: #008000\">'Lato'</span>, <span style=\"color: #008000; text-decoration-color: #008000\">'Liberation Mono'</span>, <span style=\"color: #7f7f7f; text-decoration-color: #7f7f7f\">                   </span>\n",
       "<span style=\"color: #7fbfbf; text-decoration-color: #7fbfbf\">                    </span>         <span style=\"color: #008000; text-decoration-color: #008000\">'Liberation Sans'</span>, <span style=\"color: #008000; text-decoration-color: #008000\">'Liberation Sans Narrow'</span>, <span style=\"color: #008000; text-decoration-color: #008000\">'Liberation Serif'</span>,   <span style=\"color: #7f7f7f; text-decoration-color: #7f7f7f\">                   </span>\n",
       "<span style=\"color: #7fbfbf; text-decoration-color: #7fbfbf\">                    </span>         <span style=\"color: #008000; text-decoration-color: #008000\">'Monospace'</span>, <span style=\"color: #008000; text-decoration-color: #008000\">'Nimbus Mono PS'</span>, <span style=\"color: #008000; text-decoration-color: #008000\">'Nimbus Roman'</span>, <span style=\"color: #008000; text-decoration-color: #008000\">'Nimbus Sans'</span>,      <span style=\"color: #7f7f7f; text-decoration-color: #7f7f7f\">                   </span>\n",
       "<span style=\"color: #7fbfbf; text-decoration-color: #7fbfbf\">                    </span>         <span style=\"color: #008000; text-decoration-color: #008000\">'Nimbus Sans Narrow'</span>, <span style=\"color: #008000; text-decoration-color: #008000\">'Noto Mono'</span>, <span style=\"color: #008000; text-decoration-color: #008000\">'Noto Sans Mono'</span>, <span style=\"color: #008000; text-decoration-color: #008000\">'P052'</span>,       <span style=\"color: #7f7f7f; text-decoration-color: #7f7f7f\">                   </span>\n",
       "<span style=\"color: #7fbfbf; text-decoration-color: #7fbfbf\">                    </span>         <span style=\"color: #008000; text-decoration-color: #008000\">'Sans'</span>, <span style=\"color: #008000; text-decoration-color: #008000\">'Serif'</span>, <span style=\"color: #008000; text-decoration-color: #008000\">'Source Code Pro'</span>, <span style=\"color: #008000; text-decoration-color: #008000\">'Standard Symbols PS'</span>,         <span style=\"color: #7f7f7f; text-decoration-color: #7f7f7f\">                   </span>\n",
       "<span style=\"color: #7fbfbf; text-decoration-color: #7fbfbf\">                    </span>         <span style=\"color: #008000; text-decoration-color: #008000\">'System-ui'</span>, <span style=\"color: #008000; text-decoration-color: #008000\">'URW Bookman'</span>, <span style=\"color: #008000; text-decoration-color: #008000\">'URW Gothic'</span>, <span style=\"color: #008000; text-decoration-color: #008000\">'Ubuntu'</span>, <span style=\"color: #008000; text-decoration-color: #008000\">'Ubuntu </span>       <span style=\"color: #7f7f7f; text-decoration-color: #7f7f7f\">                   </span>\n",
       "<span style=\"color: #7fbfbf; text-decoration-color: #7fbfbf\">                    </span>         <span style=\"color: #008000; text-decoration-color: #008000\">Condensed'</span>, <span style=\"color: #008000; text-decoration-color: #008000\">'Ubuntu Mono'</span>, <span style=\"color: #008000; text-decoration-color: #008000\">'Z003'</span><span style=\"font-weight: bold\">]</span>.                                <span style=\"color: #7f7f7f; text-decoration-color: #7f7f7f\">                   </span>\n",
       "</pre>\n"
      ],
      "text/plain": [
       "\u001b[2;36m                   \u001b[0m\u001b[2;36m \u001b[0m\u001b[31mWARNING \u001b[0m Font Roboto not in \u001b[1m[\u001b[0m\u001b[32m'C059'\u001b[0m, \u001b[32m'D050000L'\u001b[0m, \u001b[32m'DejaVu Sans'\u001b[0m, \u001b[32m'DejaVu \u001b[0m    \u001b]8;id=826361;file:///home/ushka/anaconda3/envs/my-manim-environment/lib/python3.11/site-packages/manim/mobject/text/text_mobject.py\u001b\\\u001b[2mtext_mobject.py\u001b[0m\u001b]8;;\u001b\\\u001b[2m:\u001b[0m\u001b]8;id=78200;file:///home/ushka/anaconda3/envs/my-manim-environment/lib/python3.11/site-packages/manim/mobject/text/text_mobject.py#440\u001b\\\u001b[2m440\u001b[0m\u001b]8;;\u001b\\\n",
       "\u001b[2;36m                    \u001b[0m         \u001b[32mSans Mono'\u001b[0m, \u001b[32m'DejaVu Serif'\u001b[0m, \u001b[32m'Droid Sans Fallback'\u001b[0m, \u001b[32m'FreeMono'\u001b[0m,     \u001b[2m                   \u001b[0m\n",
       "\u001b[2;36m                    \u001b[0m         \u001b[32m'FreeSans'\u001b[0m, \u001b[32m'FreeSerif'\u001b[0m, \u001b[32m'Inconsolata'\u001b[0m, \u001b[32m'Lato'\u001b[0m, \u001b[32m'Liberation Mono'\u001b[0m, \u001b[2m                   \u001b[0m\n",
       "\u001b[2;36m                    \u001b[0m         \u001b[32m'Liberation Sans'\u001b[0m, \u001b[32m'Liberation Sans Narrow'\u001b[0m, \u001b[32m'Liberation Serif'\u001b[0m,   \u001b[2m                   \u001b[0m\n",
       "\u001b[2;36m                    \u001b[0m         \u001b[32m'Monospace'\u001b[0m, \u001b[32m'Nimbus Mono PS'\u001b[0m, \u001b[32m'Nimbus Roman'\u001b[0m, \u001b[32m'Nimbus Sans'\u001b[0m,      \u001b[2m                   \u001b[0m\n",
       "\u001b[2;36m                    \u001b[0m         \u001b[32m'Nimbus Sans Narrow'\u001b[0m, \u001b[32m'Noto Mono'\u001b[0m, \u001b[32m'Noto Sans Mono'\u001b[0m, \u001b[32m'P052'\u001b[0m,       \u001b[2m                   \u001b[0m\n",
       "\u001b[2;36m                    \u001b[0m         \u001b[32m'Sans'\u001b[0m, \u001b[32m'Serif'\u001b[0m, \u001b[32m'Source Code Pro'\u001b[0m, \u001b[32m'Standard Symbols PS'\u001b[0m,         \u001b[2m                   \u001b[0m\n",
       "\u001b[2;36m                    \u001b[0m         \u001b[32m'System-ui'\u001b[0m, \u001b[32m'URW Bookman'\u001b[0m, \u001b[32m'URW Gothic'\u001b[0m, \u001b[32m'Ubuntu'\u001b[0m, \u001b[32m'Ubuntu \u001b[0m       \u001b[2m                   \u001b[0m\n",
       "\u001b[2;36m                    \u001b[0m         \u001b[32mCondensed'\u001b[0m, \u001b[32m'Ubuntu Mono'\u001b[0m, \u001b[32m'Z003'\u001b[0m\u001b[1m]\u001b[0m.                                \u001b[2m                   \u001b[0m\n"
      ]
     },
     "metadata": {},
     "output_type": "display_data"
    },
    {
     "data": {
      "text/html": [
       "<pre style=\"white-space:pre;overflow-x:auto;line-height:normal;font-family:Menlo,'DejaVu Sans Mono',consolas,'Courier New',monospace\"><span style=\"color: #7fbfbf; text-decoration-color: #7fbfbf\">                    </span><span style=\"color: #800000; text-decoration-color: #800000\">WARNING </span> Font Roboto not in <span style=\"font-weight: bold\">[</span><span style=\"color: #008000; text-decoration-color: #008000\">'C059'</span>, <span style=\"color: #008000; text-decoration-color: #008000\">'D050000L'</span>, <span style=\"color: #008000; text-decoration-color: #008000\">'DejaVu Sans'</span>, <span style=\"color: #008000; text-decoration-color: #008000\">'DejaVu </span>    <a href=\"file:///home/ushka/anaconda3/envs/my-manim-environment/lib/python3.11/site-packages/manim/mobject/text/text_mobject.py\" target=\"_blank\"><span style=\"color: #7f7f7f; text-decoration-color: #7f7f7f\">text_mobject.py</span></a><span style=\"color: #7f7f7f; text-decoration-color: #7f7f7f\">:</span><a href=\"file:///home/ushka/anaconda3/envs/my-manim-environment/lib/python3.11/site-packages/manim/mobject/text/text_mobject.py#440\" target=\"_blank\"><span style=\"color: #7f7f7f; text-decoration-color: #7f7f7f\">440</span></a>\n",
       "<span style=\"color: #7fbfbf; text-decoration-color: #7fbfbf\">                    </span>         <span style=\"color: #008000; text-decoration-color: #008000\">Sans Mono'</span>, <span style=\"color: #008000; text-decoration-color: #008000\">'DejaVu Serif'</span>, <span style=\"color: #008000; text-decoration-color: #008000\">'Droid Sans Fallback'</span>, <span style=\"color: #008000; text-decoration-color: #008000\">'FreeMono'</span>,     <span style=\"color: #7f7f7f; text-decoration-color: #7f7f7f\">                   </span>\n",
       "<span style=\"color: #7fbfbf; text-decoration-color: #7fbfbf\">                    </span>         <span style=\"color: #008000; text-decoration-color: #008000\">'FreeSans'</span>, <span style=\"color: #008000; text-decoration-color: #008000\">'FreeSerif'</span>, <span style=\"color: #008000; text-decoration-color: #008000\">'Inconsolata'</span>, <span style=\"color: #008000; text-decoration-color: #008000\">'Lato'</span>, <span style=\"color: #008000; text-decoration-color: #008000\">'Liberation Mono'</span>, <span style=\"color: #7f7f7f; text-decoration-color: #7f7f7f\">                   </span>\n",
       "<span style=\"color: #7fbfbf; text-decoration-color: #7fbfbf\">                    </span>         <span style=\"color: #008000; text-decoration-color: #008000\">'Liberation Sans'</span>, <span style=\"color: #008000; text-decoration-color: #008000\">'Liberation Sans Narrow'</span>, <span style=\"color: #008000; text-decoration-color: #008000\">'Liberation Serif'</span>,   <span style=\"color: #7f7f7f; text-decoration-color: #7f7f7f\">                   </span>\n",
       "<span style=\"color: #7fbfbf; text-decoration-color: #7fbfbf\">                    </span>         <span style=\"color: #008000; text-decoration-color: #008000\">'Monospace'</span>, <span style=\"color: #008000; text-decoration-color: #008000\">'Nimbus Mono PS'</span>, <span style=\"color: #008000; text-decoration-color: #008000\">'Nimbus Roman'</span>, <span style=\"color: #008000; text-decoration-color: #008000\">'Nimbus Sans'</span>,      <span style=\"color: #7f7f7f; text-decoration-color: #7f7f7f\">                   </span>\n",
       "<span style=\"color: #7fbfbf; text-decoration-color: #7fbfbf\">                    </span>         <span style=\"color: #008000; text-decoration-color: #008000\">'Nimbus Sans Narrow'</span>, <span style=\"color: #008000; text-decoration-color: #008000\">'Noto Mono'</span>, <span style=\"color: #008000; text-decoration-color: #008000\">'Noto Sans Mono'</span>, <span style=\"color: #008000; text-decoration-color: #008000\">'P052'</span>,       <span style=\"color: #7f7f7f; text-decoration-color: #7f7f7f\">                   </span>\n",
       "<span style=\"color: #7fbfbf; text-decoration-color: #7fbfbf\">                    </span>         <span style=\"color: #008000; text-decoration-color: #008000\">'Sans'</span>, <span style=\"color: #008000; text-decoration-color: #008000\">'Serif'</span>, <span style=\"color: #008000; text-decoration-color: #008000\">'Source Code Pro'</span>, <span style=\"color: #008000; text-decoration-color: #008000\">'Standard Symbols PS'</span>,         <span style=\"color: #7f7f7f; text-decoration-color: #7f7f7f\">                   </span>\n",
       "<span style=\"color: #7fbfbf; text-decoration-color: #7fbfbf\">                    </span>         <span style=\"color: #008000; text-decoration-color: #008000\">'System-ui'</span>, <span style=\"color: #008000; text-decoration-color: #008000\">'URW Bookman'</span>, <span style=\"color: #008000; text-decoration-color: #008000\">'URW Gothic'</span>, <span style=\"color: #008000; text-decoration-color: #008000\">'Ubuntu'</span>, <span style=\"color: #008000; text-decoration-color: #008000\">'Ubuntu </span>       <span style=\"color: #7f7f7f; text-decoration-color: #7f7f7f\">                   </span>\n",
       "<span style=\"color: #7fbfbf; text-decoration-color: #7fbfbf\">                    </span>         <span style=\"color: #008000; text-decoration-color: #008000\">Condensed'</span>, <span style=\"color: #008000; text-decoration-color: #008000\">'Ubuntu Mono'</span>, <span style=\"color: #008000; text-decoration-color: #008000\">'Z003'</span><span style=\"font-weight: bold\">]</span>.                                <span style=\"color: #7f7f7f; text-decoration-color: #7f7f7f\">                   </span>\n",
       "</pre>\n"
      ],
      "text/plain": [
       "\u001b[2;36m                   \u001b[0m\u001b[2;36m \u001b[0m\u001b[31mWARNING \u001b[0m Font Roboto not in \u001b[1m[\u001b[0m\u001b[32m'C059'\u001b[0m, \u001b[32m'D050000L'\u001b[0m, \u001b[32m'DejaVu Sans'\u001b[0m, \u001b[32m'DejaVu \u001b[0m    \u001b]8;id=853006;file:///home/ushka/anaconda3/envs/my-manim-environment/lib/python3.11/site-packages/manim/mobject/text/text_mobject.py\u001b\\\u001b[2mtext_mobject.py\u001b[0m\u001b]8;;\u001b\\\u001b[2m:\u001b[0m\u001b]8;id=716538;file:///home/ushka/anaconda3/envs/my-manim-environment/lib/python3.11/site-packages/manim/mobject/text/text_mobject.py#440\u001b\\\u001b[2m440\u001b[0m\u001b]8;;\u001b\\\n",
       "\u001b[2;36m                    \u001b[0m         \u001b[32mSans Mono'\u001b[0m, \u001b[32m'DejaVu Serif'\u001b[0m, \u001b[32m'Droid Sans Fallback'\u001b[0m, \u001b[32m'FreeMono'\u001b[0m,     \u001b[2m                   \u001b[0m\n",
       "\u001b[2;36m                    \u001b[0m         \u001b[32m'FreeSans'\u001b[0m, \u001b[32m'FreeSerif'\u001b[0m, \u001b[32m'Inconsolata'\u001b[0m, \u001b[32m'Lato'\u001b[0m, \u001b[32m'Liberation Mono'\u001b[0m, \u001b[2m                   \u001b[0m\n",
       "\u001b[2;36m                    \u001b[0m         \u001b[32m'Liberation Sans'\u001b[0m, \u001b[32m'Liberation Sans Narrow'\u001b[0m, \u001b[32m'Liberation Serif'\u001b[0m,   \u001b[2m                   \u001b[0m\n",
       "\u001b[2;36m                    \u001b[0m         \u001b[32m'Monospace'\u001b[0m, \u001b[32m'Nimbus Mono PS'\u001b[0m, \u001b[32m'Nimbus Roman'\u001b[0m, \u001b[32m'Nimbus Sans'\u001b[0m,      \u001b[2m                   \u001b[0m\n",
       "\u001b[2;36m                    \u001b[0m         \u001b[32m'Nimbus Sans Narrow'\u001b[0m, \u001b[32m'Noto Mono'\u001b[0m, \u001b[32m'Noto Sans Mono'\u001b[0m, \u001b[32m'P052'\u001b[0m,       \u001b[2m                   \u001b[0m\n",
       "\u001b[2;36m                    \u001b[0m         \u001b[32m'Sans'\u001b[0m, \u001b[32m'Serif'\u001b[0m, \u001b[32m'Source Code Pro'\u001b[0m, \u001b[32m'Standard Symbols PS'\u001b[0m,         \u001b[2m                   \u001b[0m\n",
       "\u001b[2;36m                    \u001b[0m         \u001b[32m'System-ui'\u001b[0m, \u001b[32m'URW Bookman'\u001b[0m, \u001b[32m'URW Gothic'\u001b[0m, \u001b[32m'Ubuntu'\u001b[0m, \u001b[32m'Ubuntu \u001b[0m       \u001b[2m                   \u001b[0m\n",
       "\u001b[2;36m                    \u001b[0m         \u001b[32mCondensed'\u001b[0m, \u001b[32m'Ubuntu Mono'\u001b[0m, \u001b[32m'Z003'\u001b[0m\u001b[1m]\u001b[0m.                                \u001b[2m                   \u001b[0m\n"
      ]
     },
     "metadata": {},
     "output_type": "display_data"
    },
    {
     "data": {
      "text/html": [
       "<pre style=\"white-space:pre;overflow-x:auto;line-height:normal;font-family:Menlo,'DejaVu Sans Mono',consolas,'Courier New',monospace\"><span style=\"color: #7fbfbf; text-decoration-color: #7fbfbf\">                    </span><span style=\"color: #800000; text-decoration-color: #800000\">WARNING </span> Font Roboto not in <span style=\"font-weight: bold\">[</span><span style=\"color: #008000; text-decoration-color: #008000\">'C059'</span>, <span style=\"color: #008000; text-decoration-color: #008000\">'D050000L'</span>, <span style=\"color: #008000; text-decoration-color: #008000\">'DejaVu Sans'</span>, <span style=\"color: #008000; text-decoration-color: #008000\">'DejaVu </span>    <a href=\"file:///home/ushka/anaconda3/envs/my-manim-environment/lib/python3.11/site-packages/manim/mobject/text/text_mobject.py\" target=\"_blank\"><span style=\"color: #7f7f7f; text-decoration-color: #7f7f7f\">text_mobject.py</span></a><span style=\"color: #7f7f7f; text-decoration-color: #7f7f7f\">:</span><a href=\"file:///home/ushka/anaconda3/envs/my-manim-environment/lib/python3.11/site-packages/manim/mobject/text/text_mobject.py#440\" target=\"_blank\"><span style=\"color: #7f7f7f; text-decoration-color: #7f7f7f\">440</span></a>\n",
       "<span style=\"color: #7fbfbf; text-decoration-color: #7fbfbf\">                    </span>         <span style=\"color: #008000; text-decoration-color: #008000\">Sans Mono'</span>, <span style=\"color: #008000; text-decoration-color: #008000\">'DejaVu Serif'</span>, <span style=\"color: #008000; text-decoration-color: #008000\">'Droid Sans Fallback'</span>, <span style=\"color: #008000; text-decoration-color: #008000\">'FreeMono'</span>,     <span style=\"color: #7f7f7f; text-decoration-color: #7f7f7f\">                   </span>\n",
       "<span style=\"color: #7fbfbf; text-decoration-color: #7fbfbf\">                    </span>         <span style=\"color: #008000; text-decoration-color: #008000\">'FreeSans'</span>, <span style=\"color: #008000; text-decoration-color: #008000\">'FreeSerif'</span>, <span style=\"color: #008000; text-decoration-color: #008000\">'Inconsolata'</span>, <span style=\"color: #008000; text-decoration-color: #008000\">'Lato'</span>, <span style=\"color: #008000; text-decoration-color: #008000\">'Liberation Mono'</span>, <span style=\"color: #7f7f7f; text-decoration-color: #7f7f7f\">                   </span>\n",
       "<span style=\"color: #7fbfbf; text-decoration-color: #7fbfbf\">                    </span>         <span style=\"color: #008000; text-decoration-color: #008000\">'Liberation Sans'</span>, <span style=\"color: #008000; text-decoration-color: #008000\">'Liberation Sans Narrow'</span>, <span style=\"color: #008000; text-decoration-color: #008000\">'Liberation Serif'</span>,   <span style=\"color: #7f7f7f; text-decoration-color: #7f7f7f\">                   </span>\n",
       "<span style=\"color: #7fbfbf; text-decoration-color: #7fbfbf\">                    </span>         <span style=\"color: #008000; text-decoration-color: #008000\">'Monospace'</span>, <span style=\"color: #008000; text-decoration-color: #008000\">'Nimbus Mono PS'</span>, <span style=\"color: #008000; text-decoration-color: #008000\">'Nimbus Roman'</span>, <span style=\"color: #008000; text-decoration-color: #008000\">'Nimbus Sans'</span>,      <span style=\"color: #7f7f7f; text-decoration-color: #7f7f7f\">                   </span>\n",
       "<span style=\"color: #7fbfbf; text-decoration-color: #7fbfbf\">                    </span>         <span style=\"color: #008000; text-decoration-color: #008000\">'Nimbus Sans Narrow'</span>, <span style=\"color: #008000; text-decoration-color: #008000\">'Noto Mono'</span>, <span style=\"color: #008000; text-decoration-color: #008000\">'Noto Sans Mono'</span>, <span style=\"color: #008000; text-decoration-color: #008000\">'P052'</span>,       <span style=\"color: #7f7f7f; text-decoration-color: #7f7f7f\">                   </span>\n",
       "<span style=\"color: #7fbfbf; text-decoration-color: #7fbfbf\">                    </span>         <span style=\"color: #008000; text-decoration-color: #008000\">'Sans'</span>, <span style=\"color: #008000; text-decoration-color: #008000\">'Serif'</span>, <span style=\"color: #008000; text-decoration-color: #008000\">'Source Code Pro'</span>, <span style=\"color: #008000; text-decoration-color: #008000\">'Standard Symbols PS'</span>,         <span style=\"color: #7f7f7f; text-decoration-color: #7f7f7f\">                   </span>\n",
       "<span style=\"color: #7fbfbf; text-decoration-color: #7fbfbf\">                    </span>         <span style=\"color: #008000; text-decoration-color: #008000\">'System-ui'</span>, <span style=\"color: #008000; text-decoration-color: #008000\">'URW Bookman'</span>, <span style=\"color: #008000; text-decoration-color: #008000\">'URW Gothic'</span>, <span style=\"color: #008000; text-decoration-color: #008000\">'Ubuntu'</span>, <span style=\"color: #008000; text-decoration-color: #008000\">'Ubuntu </span>       <span style=\"color: #7f7f7f; text-decoration-color: #7f7f7f\">                   </span>\n",
       "<span style=\"color: #7fbfbf; text-decoration-color: #7fbfbf\">                    </span>         <span style=\"color: #008000; text-decoration-color: #008000\">Condensed'</span>, <span style=\"color: #008000; text-decoration-color: #008000\">'Ubuntu Mono'</span>, <span style=\"color: #008000; text-decoration-color: #008000\">'Z003'</span><span style=\"font-weight: bold\">]</span>.                                <span style=\"color: #7f7f7f; text-decoration-color: #7f7f7f\">                   </span>\n",
       "</pre>\n"
      ],
      "text/plain": [
       "\u001b[2;36m                   \u001b[0m\u001b[2;36m \u001b[0m\u001b[31mWARNING \u001b[0m Font Roboto not in \u001b[1m[\u001b[0m\u001b[32m'C059'\u001b[0m, \u001b[32m'D050000L'\u001b[0m, \u001b[32m'DejaVu Sans'\u001b[0m, \u001b[32m'DejaVu \u001b[0m    \u001b]8;id=509958;file:///home/ushka/anaconda3/envs/my-manim-environment/lib/python3.11/site-packages/manim/mobject/text/text_mobject.py\u001b\\\u001b[2mtext_mobject.py\u001b[0m\u001b]8;;\u001b\\\u001b[2m:\u001b[0m\u001b]8;id=853568;file:///home/ushka/anaconda3/envs/my-manim-environment/lib/python3.11/site-packages/manim/mobject/text/text_mobject.py#440\u001b\\\u001b[2m440\u001b[0m\u001b]8;;\u001b\\\n",
       "\u001b[2;36m                    \u001b[0m         \u001b[32mSans Mono'\u001b[0m, \u001b[32m'DejaVu Serif'\u001b[0m, \u001b[32m'Droid Sans Fallback'\u001b[0m, \u001b[32m'FreeMono'\u001b[0m,     \u001b[2m                   \u001b[0m\n",
       "\u001b[2;36m                    \u001b[0m         \u001b[32m'FreeSans'\u001b[0m, \u001b[32m'FreeSerif'\u001b[0m, \u001b[32m'Inconsolata'\u001b[0m, \u001b[32m'Lato'\u001b[0m, \u001b[32m'Liberation Mono'\u001b[0m, \u001b[2m                   \u001b[0m\n",
       "\u001b[2;36m                    \u001b[0m         \u001b[32m'Liberation Sans'\u001b[0m, \u001b[32m'Liberation Sans Narrow'\u001b[0m, \u001b[32m'Liberation Serif'\u001b[0m,   \u001b[2m                   \u001b[0m\n",
       "\u001b[2;36m                    \u001b[0m         \u001b[32m'Monospace'\u001b[0m, \u001b[32m'Nimbus Mono PS'\u001b[0m, \u001b[32m'Nimbus Roman'\u001b[0m, \u001b[32m'Nimbus Sans'\u001b[0m,      \u001b[2m                   \u001b[0m\n",
       "\u001b[2;36m                    \u001b[0m         \u001b[32m'Nimbus Sans Narrow'\u001b[0m, \u001b[32m'Noto Mono'\u001b[0m, \u001b[32m'Noto Sans Mono'\u001b[0m, \u001b[32m'P052'\u001b[0m,       \u001b[2m                   \u001b[0m\n",
       "\u001b[2;36m                    \u001b[0m         \u001b[32m'Sans'\u001b[0m, \u001b[32m'Serif'\u001b[0m, \u001b[32m'Source Code Pro'\u001b[0m, \u001b[32m'Standard Symbols PS'\u001b[0m,         \u001b[2m                   \u001b[0m\n",
       "\u001b[2;36m                    \u001b[0m         \u001b[32m'System-ui'\u001b[0m, \u001b[32m'URW Bookman'\u001b[0m, \u001b[32m'URW Gothic'\u001b[0m, \u001b[32m'Ubuntu'\u001b[0m, \u001b[32m'Ubuntu \u001b[0m       \u001b[2m                   \u001b[0m\n",
       "\u001b[2;36m                    \u001b[0m         \u001b[32mCondensed'\u001b[0m, \u001b[32m'Ubuntu Mono'\u001b[0m, \u001b[32m'Z003'\u001b[0m\u001b[1m]\u001b[0m.                                \u001b[2m                   \u001b[0m\n"
      ]
     },
     "metadata": {},
     "output_type": "display_data"
    },
    {
     "name": "stderr",
     "output_type": "stream",
     "text": [
      "                                                                                   \r"
     ]
    },
    {
     "data": {
      "text/html": [
       "<video src=\"media/jupyter/CreateDunningKruger@2024-01-10@23-24-18.mp4\" controls autoplay loop style=\"max-width: 60%;\"  >\n",
       "      Your browser does not support the <code>video</code> element.\n",
       "    </video>"
      ],
      "text/plain": [
       "<IPython.core.display.Video object>"
      ]
     },
     "metadata": {},
     "output_type": "display_data"
    }
   ],
   "source": [
    "%%manim -qm -v WARNING CreateDunningKruger\n",
    "\n",
    "class CreateDunningKruger(mn.Scene):\n",
    "    def construct(self):\n",
    "\n",
    "        # ========== Config ==========\n",
    "\n",
    "        mn.Text.set_default(font=\"Roboto\", font_size=16)\n",
    "\n",
    "        # ========== Title ==========\n",
    "\n",
    "        title = mn.Text(\"Dunning-Kruger Effect\", font_size=36)\n",
    "        title.to_edge(mn.UP)\n",
    "\n",
    "        self.play(mn.FadeIn(title))\n",
    "\n",
    "        # ========== Axes ==========\n",
    "\n",
    "        axes = mn.Axes(\n",
    "            x_range=[0, 10, 1],\n",
    "            y_range=[0, 10, 1],\n",
    "            tips=True,\n",
    "            axis_config={\"include_numbers\": False, \"include_ticks\": False},\n",
    "        )\n",
    "\n",
    "        self.play(mn.Create(axes))\n",
    "\n",
    "        # ========== X labels ==========\n",
    "\n",
    "        x_start_label = mn.MathTex(\"Know\\ nothing\", font_size=24)\n",
    "        x_start_label.next_to(\n",
    "            axes.x_axis.get_start(),\n",
    "            direction=mn.DOWN,\n",
    "            aligned_edge=mn.LEFT\n",
    "        )\n",
    "\n",
    "        x_mid_label = mn.MathTex(\n",
    "            \"Competence\", font_size=36)\n",
    "        x_mid_label.next_to(\n",
    "            axes.x_axis.get_midpoint(),\n",
    "            direction=mn.DOWN,\n",
    "            aligned_edge=mn.ORIGIN,\n",
    "        )\n",
    "\n",
    "        x_end_label = mn.MathTex(\"Guru\", font_size=24)\n",
    "        x_end_label.next_to(\n",
    "            axes.x_axis.get_end(),\n",
    "            direction=mn.DOWN,\n",
    "            aligned_edge=mn.RIGHT)\n",
    "\n",
    "        self.play(\n",
    "            mn.FadeIn(x_start_label),\n",
    "            mn.FadeIn(x_mid_label),\n",
    "            mn.FadeIn(x_end_label)\n",
    "        )\n",
    "\n",
    "        # ========== Y labels ==========\n",
    "\n",
    "        y_start_label = mn.MathTex(\"Low\", font_size=24)\n",
    "        y_start_label.next_to(\n",
    "            axes.y_axis.get_start(),\n",
    "            direction=mn.LEFT,\n",
    "            aligned_edge=mn.DOWN,\n",
    "        )\n",
    "\n",
    "        y_mid_label = mn.MathTex(\n",
    "            \"Confidence\", font_size=36\n",
    "        ).rotate(90 * mn.DEGREES)\n",
    "        y_mid_label.next_to(\n",
    "            axes.y_axis.get_midpoint(),\n",
    "            direction=mn.LEFT,\n",
    "            aligned_edge=mn.ORIGIN,\n",
    "        )\n",
    "\n",
    "        y_end_label = mn.MathTex(\"High\", font_size=24)\n",
    "        y_end_label.next_to(\n",
    "            axes.y_axis.get_end(),\n",
    "            direction=mn.LEFT,\n",
    "            aligned_edge=mn.UP)\n",
    "\n",
    "        self.play(\n",
    "            mn.FadeIn(y_start_label),\n",
    "            mn.FadeIn(y_mid_label),\n",
    "            mn.FadeIn(y_end_label)\n",
    "        )\n",
    "\n",
    "        # ========== Line ==========\n",
    "\n",
    "        points = [\n",
    "            (0, 0),\n",
    "            (1, 8),\n",
    "            (2, 2),\n",
    "            (4, 2),\n",
    "            (6, 5),\n",
    "            (8, 7),\n",
    "            (10, 8),\n",
    "        ]\n",
    "\n",
    "        path = mn.VMobject()\n",
    "        path.color = mn.BLUE\n",
    "        path.set_points_smoothly([axes.c2p(x, y) for x, y in points])\n",
    "\n",
    "        self.play(mn.Create(path))\n",
    "\n",
    "        # ========== Helper labels ==========\n",
    "\n",
    "        helper_label_1 = mn.Text(\"Peak of \\\"Mount Stupid\\\"\")\n",
    "        helper_label_1.next_to(\n",
    "            axes.c2p(1, 8),\n",
    "            direction=mn.UP,\n",
    "            aligned_edge=mn.LEFT,\n",
    "        )\n",
    "\n",
    "        helper_label_2 = mn.Text(\"Valley of Despair\")\n",
    "        helper_label_2.next_to(\n",
    "            axes.c2p(3, 1),\n",
    "            direction=mn.DOWN,\n",
    "            aligned_edge=mn.ORIGIN,\n",
    "        )\n",
    "\n",
    "        helper_label_3 = mn.Text(\"Slope of Enlightenment\")\n",
    "        helper_label_3.next_to(\n",
    "            axes.c2p(6, 5),\n",
    "            direction=mn.DOWN,\n",
    "            aligned_edge=mn.LEFT,\n",
    "        )\n",
    "\n",
    "        helper_label_4 = mn.Text(\"Plateau of Sustainability\")\n",
    "        helper_label_4.next_to(\n",
    "            axes.c2p(10, 8),\n",
    "            direction=mn.UP,\n",
    "            aligned_edge=mn.RIGHT,\n",
    "        )\n",
    "\n",
    "        helper_label_animations = [\n",
    "            mn.FadeIn(helper_label_1),\n",
    "            mn.FadeIn(helper_label_2),\n",
    "            mn.FadeIn(helper_label_3),\n",
    "            mn.FadeIn(helper_label_4),\n",
    "        ]\n",
    "\n",
    "        self.play(mn.AnimationGroup(*helper_label_animations, lag_ratio=0.5))\n",
    "\n",
    "        # ========== Wait ==========\n",
    "\n",
    "        self.wait(3)\n"
   ]
  }
 ],
 "metadata": {
  "kernelspec": {
   "display_name": "my-manim-environment",
   "language": "python",
   "name": "python3"
  },
  "language_info": {
   "codemirror_mode": {
    "name": "ipython",
    "version": 3
   },
   "file_extension": ".py",
   "mimetype": "text/x-python",
   "name": "python",
   "nbconvert_exporter": "python",
   "pygments_lexer": "ipython3",
   "version": "3.11.7"
  }
 },
 "nbformat": 4,
 "nbformat_minor": 2
}
